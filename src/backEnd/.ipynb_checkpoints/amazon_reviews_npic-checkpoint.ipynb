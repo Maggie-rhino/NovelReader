{
 "cells": [
  {
   "cell_type": "code",
   "execution_count": 2,
   "id": "ec3c556e",
   "metadata": {},
   "outputs": [],
   "source": [
    "\n",
    "products= {'get-naked%C2%AE-senior-health-dental-dog-chew-sticks': \"B0CJZ69YMK\" ,\n",
    " 'biteables-essential-health-functional-cat-soft-treats': \"B09FQ9VZNP\",\n",
    " 'get-naked-skin-coat-health-dental-stick-chews':\"B01JONKI9Q\",\n",
    " 'biteables-cat-health-plus-functional-cat-soft-treats':\"B09FQDFF3Q\",\n",
    " 'twistix%C2%AE-grain-free-vanilla-mint':\"B0CMPDM7VC\",\n",
    " 'get-naked%C2%AE-calming-health-dental-dog-chew-sticks':\"B0CDRFBRNY\",\n",
    " 'get-naked%C2%AE-kitten-health-soft-treats':\"B01HUX3N8K\",\n",
    " 'n-bone%C2%AE-puppy-teething-rings-grain-free-chicken':\"B077VQ3GRD\",\n",
    " 'n-bone%C2%AE-puppy-training-treats':\"B0924YY8HC\",\n",
    " 'n-bone%C2%AE-jumbo-puppy-teething-sticks-chicken-flavor-coming-soon':\"B09R6FX8LH\",\n",
    " 'n-bone%C2%AE-barbeque':\"B0CM55DY1G\",\n",
    " 'n-bone%C2%AE-puppy-teething-rings-blueberry-bbq':\"B08KL4M5RK\",\n",
    " 'n-bone%C2%AE-puppy-teething-rings-salmon-flavor':\"B08PQ7VYSV\",\n",
    " 'n-bone%C2%AE-ferret-soft-treats-in-bacon':\"B0153SSMOO\",\n",
    " 'n-bone%C2%AE-puppy-teething-rings-peanut-butter':\"B093RQ7S3T\",\n",
    " 'get-naked%C2%AE-dental-health-bone-chicken-flavor-6-6oz':None,\n",
    " 'biteables%C2%AE-digestive-health-functional-soft-treats':\"B017YAHVA0\",\n",
    " 'n-bone%C2%AE-puppy-teething-rings-pumpkin':\"B00X6THK2S\",\n",
    " 'n-bone%C2%AE-cat-chew-treats':\"B00061MULK\",\n",
    " 'n-bone%C2%AE-ferret-chew-treats-in-salmon':\"B0BS4NBW92\",\n",
    " 'n-bone-puppy-teething-sticks-pumpkin-flavor':\"B09R6CH93J\",\n",
    " 'biteables%C2%AE-senior-care':\"B08S6MQZVV\",\n",
    " 'get-naked-puppy-health-dental-chew-sticks':\"B01JONK8Q4\",\n",
    " 'n-bone%C2%AE-quado%C2%AE-in-bacon':\"B087B7GSHJ\",\n",
    " 'twistix-naturals%C2%AE-dental-treats':\"B09FQDLY3D\",\n",
    " 'twistix%C2%AE-peanut-carob':\"B00JN9EP6E\",\n",
    " 'biteables-kitten-health-plus-functional-cat-soft-treats':None,\n",
    " 'n-bone%C2%AE-puppy-teething-sticks':\"B00061URQA\",\n",
    " 'get-naked%C2%AE-joint-health-soft-treats':\"B018BWLEPS\",\n",
    " 'n-bone%C2%AE-quado%C2%AE-in-pumpkin':\"B0175BN418\",\n",
    " 'n-bone-puppy-teething-rings-chicken':\"B00X1A2ESC\",\n",
    " 'biteables-digestive-health-plus-functional-cat-soft-treats':\"B09FQF6KF5\",\n",
    " 'get-naked-super-antioxidant':\"B01JONKIAU\",\n",
    " 'copy-of-get-naked%C2%AE-puppy-health-soft-treats':\"B017YAHTJ8\",\n",
    " 'n-bone%C2%AE-ferret-soft-treats-in-chicken':\"B014KLSBDW\",\n",
    " 'n-bone%C2%AE-the-original%C2%AE':\"B0BFJR81WF\",\n",
    " 'n-bone-puppy-teething-rings-plus':\"B09JKJ871B\",\n",
    " 'n-bone%C2%AE-ferret-chew-treats-in-chicken':\"B0BS4NBW92\",\n",
    " 'n-bone%C2%AE-senior-dental-rings':\"B09QP9DXJS\",\n",
    " 'get-naked%C2%AE-cat-health-with-cranberry-juice-crunchy-treats':\"B01HGMDO2U\",\n",
    " 'n-bone%C2%AE-quado%C2%AE-in-barbeque':\"B087BHJ9D9\",\n",
    " 'n-bone%C2%AE-puppernutter%C2%AE':\"B007RW7CJQ\",\n",
    " 'get-naked%C2%AE-weight-management-dental-chew-sticks':\"B01JONK96I\",\n",
    " 'get-naked%C2%AE-digestive-health-dental-chew-sticks':\"B003AYCVVY\",\n",
    " 'n-bone%C2%AE-quado%C2%AE-in-peanut':\"B0175BN7B0\",\n",
    " 'n-bone-adult-dental-rings-chicken-flavor-7-count':\"B0B8L31J68\",\n",
    " 'n-bone%C2%AE-puppy-teething-rings-salmon-flavor':\"B093QSLWZ8\",\n",
    " 'get-naked%C2%AE-functional-dental-bones-6-6oz':None,\n",
    " 'n-bone%C2%AE-ferret-chew-treats-in-bacon': None,\n",
    " 'twistix%C2%AE-yogurt-banana':\"B00HHIM4LG\",\n",
    " 'teeny-puppy-teething-rings':\"B09FQBPCF1\",\n",
    " 'get-naked%C2%AE-joint-health-dental-chew-sticks':\"B01JONK8VO\",\n",
    " 'get-naked%C2%AE-digestive-health-for-cats-soft-treats':\"B01HUX3NNU\",\n",
    " 'n-bone%C2%AE-puppy-teething-sticks-peanut-butter-flavor-coming-soon':\"B09R6PPRMH\"}"
   ]
  },
  {
   "cell_type": "markdown",
   "id": "65bf9aa8",
   "metadata": {},
   "source": [
    "### generate url"
   ]
  },
  {
   "cell_type": "code",
   "execution_count": 20,
   "id": "0bf0e5df",
   "metadata": {},
   "outputs": [],
   "source": [
    "def generate_url():\n",
    "    for i in range(1,11):\n",
    "        for key,value in products.items():\n",
    "            link = f\"https://www.amazon.com/{key}/product-reviews/{value}/ref=cm_cr_getr_d_paging_btm_next_{i}?ie=UTF8&pageNumber={i}&reviewerType=all_reviews#reviews-filter-bar\"\n",
    "            yield(link)"
   ]
  },
  {
   "cell_type": "code",
   "execution_count": 21,
   "id": "baab74a9",
   "metadata": {},
   "outputs": [
    {
     "name": "stdout",
     "output_type": "stream",
     "text": [
      "https://www.amazon.com/get-naked%C2%AE-senior-health-dental-dog-chew-sticks/product-reviews/B0CJZ69YMK/ref=cm_cr_getr_d_paging_btm_next_1?ie=UTF8&pageNumber=1&reviewerType=all_reviews#reviews-filter-bar\n"
     ]
    }
   ],
   "source": [
    "num =0\n",
    "for link in generate_url():\n",
    "    print(link)\n",
    "    break"
   ]
  },
  {
   "cell_type": "markdown",
   "id": "ca98342a",
   "metadata": {},
   "source": [
    "### use selenium to get reviews "
   ]
  },
  {
   "cell_type": "code",
   "execution_count": 29,
   "id": "be1f7349",
   "metadata": {},
   "outputs": [],
   "source": [
    "from selenium import webdriver\n",
    "from bs4 import BeautifulSoup"
   ]
  },
  {
   "cell_type": "code",
   "execution_count": 33,
   "id": "853a300f",
   "metadata": {},
   "outputs": [],
   "source": [
    "def get_page_soup(link,sleep_time =10):\n",
    "    driver = webdriver.Chrome()\n",
    "    driver.get(link)\n",
    "    # Wait for the page to load completely (you might need to adjust the wait time)\n",
    "    driver.implicitly_wait(sleep_time)\n",
    "    soup = BeautifulSoup(driver.page_source, 'html.parser')\n",
    "    return soup"
   ]
  },
  {
   "cell_type": "code",
   "execution_count": 30,
   "id": "31cd600c",
   "metadata": {},
   "outputs": [],
   "source": [
    "soup = get_page_comments(link)"
   ]
  },
  {
   "cell_type": "code",
   "execution_count": 34,
   "id": "5d3b0d9a",
   "metadata": {},
   "outputs": [],
   "source": [
    "def save_page_html(soup,save_path):\n",
    "    with open(save_path,'w') as f:\n",
    "        f.write(str(soup))\n",
    "    print(f\"file saved!!\")"
   ]
  },
  {
   "cell_type": "code",
   "execution_count": null,
   "id": "e8acbb6c",
   "metadata": {},
   "outputs": [],
   "source": [
    "num =0\n",
    "for link in generate_url():\n",
    "    page_soup = get_page_soup(link,sleep_time=10)\n",
    "    save_path = f'./NPIC_reviews/{num}.html'\n",
    "    save_page_html(page_soup,save_path)\n",
    "    print(num, save_path)"
   ]
  }
 ],
 "metadata": {
  "kernelspec": {
   "display_name": "Python 3 (ipykernel)",
   "language": "python",
   "name": "python3"
  },
  "language_info": {
   "codemirror_mode": {
    "name": "ipython",
    "version": 3
   },
   "file_extension": ".py",
   "mimetype": "text/x-python",
   "name": "python",
   "nbconvert_exporter": "python",
   "pygments_lexer": "ipython3",
   "version": "3.8.11"
  }
 },
 "nbformat": 4,
 "nbformat_minor": 5
}
