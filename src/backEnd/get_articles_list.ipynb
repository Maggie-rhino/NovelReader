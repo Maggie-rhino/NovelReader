{
 "cells": [
  {
   "cell_type": "code",
   "execution_count": null,
   "id": "880d3460",
   "metadata": {},
   "outputs": [],
   "source": [
    "import requests \n",
    "from bs4 import BeautifulSoup"
   ]
  },
  {
   "cell_type": "code",
   "execution_count": null,
   "id": "5011047e",
   "metadata": {},
   "outputs": [],
   "source": [
    "import time"
   ]
  },
  {
   "cell_type": "code",
   "execution_count": null,
   "id": "215a4cdc",
   "metadata": {},
   "outputs": [],
   "source": [
    "from tqdm import tqdm"
   ]
  },
  {
   "cell_type": "code",
   "execution_count": null,
   "id": "54283285",
   "metadata": {},
   "outputs": [],
   "source": [
    "import pandas as pd"
   ]
  },
  {
   "cell_type": "code",
   "execution_count": null,
   "id": "a404d8df",
   "metadata": {},
   "outputs": [],
   "source": [
    "url_start =\"https://onehu.xyz\"\n",
    "start_idx =2\n",
    "end_idx =234"
   ]
  },
  {
   "cell_type": "code",
   "execution_count": null,
   "id": "fac946cc",
   "metadata": {},
   "outputs": [],
   "source": [
    "def get_info(url):\n",
    "    resp = requests.get(url)\n",
    "    soup = BeautifulSoup(resp.content,'html.parser')\n",
    "    novel_lists = soup.find_all(class_ = \"row\")\n",
    "    \n",
    "    res =[]\n",
    "    for item in novel_lists:\n",
    "        # Find elements\n",
    "        header_text = item.find(class_=\"index-header\").get_text(strip=True)\n",
    "        header_href = item.find(class_=\"index-header\").find('a')['href']\n",
    "        excerpt_text = item.find(class_=\"index-excerpt\").get_text(strip=True)\n",
    "        date_text = item.find(\"time\").get_text(strip=True)\n",
    "        category_text = item.find(class_=\"category-chain-item\").get_text(strip=True)\n",
    "        tag_text = item.find_all(\"div\", class_=\"post-meta\")[-1].get_text(strip=True)\n",
    "        res.append([header_text,header_href,excerpt_text,date_text,category_text,tag_text])\n",
    "    cols =['title','url','abstract','date','category','tag']\n",
    "    df =pd.DataFrame(res,columns=cols)\n",
    "    df.drop_duplicates(inplace=True)\n",
    "#     df.to_csv(save_path,index=False)\n",
    "    return df"
   ]
  },
  {
   "cell_type": "code",
   "execution_count": null,
   "id": "bf59b196",
   "metadata": {
    "scrolled": true
   },
   "outputs": [],
   "source": [
    "articles_df = get_info(url_start)\n",
    "for i in tqdm(range(2,307)):\n",
    "    url =f\"https://onehu.xyz/page/{i}/#board\"\n",
    "    page_df = get_info(url)\n",
    "    articles_df =pd.concat([articles_df,page_df])\n",
    "#     print(i)"
   ]
  },
  {
   "cell_type": "code",
   "execution_count": null,
   "id": "2c282f5f",
   "metadata": {},
   "outputs": [],
   "source": [
    "articles_df.to_csv(\"./data/articles_df.csv\")"
   ]
  },
  {
   "cell_type": "markdown",
   "id": "dcb4f5b1",
   "metadata": {},
   "source": [
    "### get the article\n"
   ]
  },
  {
   "cell_type": "code",
   "execution_count": null,
   "id": "8653a4ea",
   "metadata": {},
   "outputs": [],
   "source": [
    "articles_df =pd.read_csv('./data/articles_df.csv')"
   ]
  },
  {
   "cell_type": "code",
   "execution_count": null,
   "id": "31c79ab5",
   "metadata": {},
   "outputs": [],
   "source": [
    "from glob import glob\n",
    "import os"
   ]
  },
  {
   "cell_type": "code",
   "execution_count": null,
   "id": "569dbe5d",
   "metadata": {},
   "outputs": [],
   "source": [
    "used_items =[]\n",
    "error_items =[]"
   ]
  },
  {
   "cell_type": "code",
   "execution_count": null,
   "id": "aa958a50",
   "metadata": {},
   "outputs": [],
   "source": [
    "articles_df['txt_path'] =None"
   ]
  },
  {
   "cell_type": "code",
   "execution_count": null,
   "id": "fd93c6db",
   "metadata": {},
   "outputs": [],
   "source": [
    "n=0\n",
    "for idx,row in tqdm(articles_df.iterrows()):\n",
    "    n +=1\n",
    "    full_url = f\"https://onehu.xyz{row.url}\"\n",
    "    resp = requests.get(full_url)\n",
    "    page_soup = BeautifulSoup(resp.content,'html.parser')\n",
    "    content = page_soup.find(class_ =\"markdown-body\")\n",
    "    if content is None:\n",
    "        continue\n",
    "    folder =f\"./data/{row.url[1:11]}\"\n",
    "    if os.path.exists(folder):\n",
    "        pass\n",
    "    else:\n",
    "        os.system(f\" mkdir -p {folder}\")\n",
    "        print(\"folder does not exist, create a new folder \",folder)\n",
    "    txt_path =f'{folder}/{n-1}.txt'\n",
    "    articles_df.loc[n-1,'txt_path']=txt_path\n",
    "#     print(\"save the content\")\n",
    "    with open (txt_path,'w') as f:\n",
    "        f.write(content.get_text())\n",
    "#         break\n",
    "#     break"
   ]
  },
  {
   "cell_type": "markdown",
   "id": "d8167ab6",
   "metadata": {},
   "source": [
    "### data clean"
   ]
  },
  {
   "cell_type": "code",
   "execution_count": null,
   "id": "8edb758f",
   "metadata": {},
   "outputs": [],
   "source": [
    "articles_df =articles_df[[\"title\",'url','abstract','date','category','tag','txt_path']]\n",
    "articles_df.drop_duplicates(inplace=True)"
   ]
  },
  {
   "cell_type": "code",
   "execution_count": null,
   "id": "cb720d4c",
   "metadata": {},
   "outputs": [],
   "source": [
    "df_clean = articles_df[articles_df.txt_path.isna()==False]"
   ]
  },
  {
   "cell_type": "code",
   "execution_count": null,
   "id": "fce8723b",
   "metadata": {
    "scrolled": true
   },
   "outputs": [],
   "source": [
    "df_clean.drop_duplicates(subset='abstract',inplace=True)"
   ]
  },
  {
   "cell_type": "code",
   "execution_count": null,
   "id": "bfaf0ec0",
   "metadata": {},
   "outputs": [],
   "source": [
    "df_clean['txt_path'] = df_clean['txt_path'].apply(lambda x : x.replace('./data/','').replace('.txt',''))"
   ]
  },
  {
   "cell_type": "code",
   "execution_count": null,
   "id": "c07554f3",
   "metadata": {},
   "outputs": [],
   "source": [
    "df_clean =df_clean[['title', 'url', 'abstract', 'date', 'category',\n",
    "       'tag', 'txt_path']]"
   ]
  },
  {
   "cell_type": "code",
   "execution_count": null,
   "id": "8b138432",
   "metadata": {},
   "outputs": [],
   "source": [
    "df_clean['tag'] =df_clean['tag'].apply(lambda x : x.replace(\"#\",\"\"))"
   ]
  },
  {
   "cell_type": "code",
   "execution_count": null,
   "id": "27491f3d",
   "metadata": {},
   "outputs": [],
   "source": [
    "df_clean.to_csv('./data/articles_df_clean.csv')"
   ]
  },
  {
   "cell_type": "markdown",
   "id": "17d67c4a",
   "metadata": {},
   "source": [
    "### category"
   ]
  },
  {
   "cell_type": "code",
   "execution_count": null,
   "id": "d2035327",
   "metadata": {},
   "outputs": [],
   "source": [
    "category_list =[]\n",
    "\n",
    "category_set = df_clean['category'].unique().tolist()\n",
    "\n",
    "\n",
    "for c in category_set:\n",
    "    sub_df = df_clean[df_clean['category']==c]\n",
    "    cnt = len(sub_df)\n",
    "    lists = sub_df[['title','txt_path']].to_dict(orient='records')[:11]\n",
    "    category_list.append({\"category\":c,\"count\":cnt,\"lists\":lists})"
   ]
  },
  {
   "cell_type": "code",
   "execution_count": null,
   "id": "a733979e",
   "metadata": {},
   "outputs": [],
   "source": [
    "sorted_data = sorted(category_list, key=lambda x: x['count'], reverse=True)"
   ]
  },
  {
   "cell_type": "code",
   "execution_count": null,
   "id": "6e614d5c",
   "metadata": {},
   "outputs": [],
   "source": [
    "import json"
   ]
  },
  {
   "cell_type": "code",
   "execution_count": null,
   "id": "87d2ab10",
   "metadata": {},
   "outputs": [],
   "source": [
    "with open('./data/category_lists.json', 'w', encoding='utf-8') as f:\n",
    "    json.dump(sorted_data, f, ensure_ascii=False, indent=4)"
   ]
  },
  {
   "cell_type": "markdown",
   "id": "cda7c027",
   "metadata": {},
   "source": [
    "### search"
   ]
  },
  {
   "cell_type": "code",
   "execution_count": 1,
   "id": "15e23303",
   "metadata": {},
   "outputs": [],
   "source": [
    "import pandas as pd\n",
    "from tqdm import tqdm"
   ]
  },
  {
   "cell_type": "code",
   "execution_count": 2,
   "id": "c5c8934d",
   "metadata": {},
   "outputs": [],
   "source": [
    "df_clean =pd.read_csv('./data/articles_df_clean.csv')"
   ]
  },
  {
   "cell_type": "code",
   "execution_count": null,
   "id": "992f64bc",
   "metadata": {},
   "outputs": [],
   "source": [
    "df_clean['search_keywords'] = df_clean.apply(lambda x : ''.join([i for i in x[['title','category','abstract']]]),axis=1)"
   ]
  },
  {
   "cell_type": "code",
   "execution_count": null,
   "id": "4d16e576",
   "metadata": {},
   "outputs": [],
   "source": [
    "df_clean['search_NER'] = df_clean['search_keywords'].apply(lambda x :set([i for i in x]))"
   ]
  },
  {
   "cell_type": "code",
   "execution_count": null,
   "id": "44c0a2f9",
   "metadata": {},
   "outputs": [],
   "source": [
    "df_clean[['title', 'url', 'abstract', 'date', 'category', 'tag',\n",
    "       'txt_path', 'search_NER']].to_csv('./data/articles_df_clean.csv',index=False)"
   ]
  },
  {
   "cell_type": "code",
   "execution_count": 3,
   "id": "c5d5440a",
   "metadata": {},
   "outputs": [],
   "source": [
    "df =df_clean"
   ]
  },
  {
   "cell_type": "code",
   "execution_count": 4,
   "id": "1d4791e1",
   "metadata": {},
   "outputs": [],
   "source": [
    "def search_match(s1_set,s2_set):\n",
    "    return len(s1_set&s2_set)"
   ]
  },
  {
   "cell_type": "code",
   "execution_count": 8,
   "id": "20caadc9",
   "metadata": {},
   "outputs": [],
   "source": [
    "df['tmp'] = df.apply(lambda x : search_match(set(\"假千金\"),set(x['search_NER'])),axis=1)\n",
    "sub_df = df[df['tmp']>=1]\n",
    "sub_df =sub_df.sort_values(by='tmp', ascending=False)\n",
    "sub_df =sub_df[:10]\n",
    "# print(sub_df)"
   ]
  },
  {
   "cell_type": "code",
   "execution_count": 10,
   "id": "1b050b11",
   "metadata": {},
   "outputs": [],
   "source": [
    "sub_df =sub_df.sort_values(by='tmp', ascending=False)"
   ]
  },
  {
   "cell_type": "code",
   "execution_count": 12,
   "id": "4afd3c2e",
   "metadata": {},
   "outputs": [],
   "source": [
    "sub_df =sub_df[:10]"
   ]
  },
  {
   "cell_type": "code",
   "execution_count": 13,
   "id": "22222383",
   "metadata": {},
   "outputs": [
    {
     "data": {
      "text/html": [
       "<div>\n",
       "<style scoped>\n",
       "    .dataframe tbody tr th:only-of-type {\n",
       "        vertical-align: middle;\n",
       "    }\n",
       "\n",
       "    .dataframe tbody tr th {\n",
       "        vertical-align: top;\n",
       "    }\n",
       "\n",
       "    .dataframe thead th {\n",
       "        text-align: right;\n",
       "    }\n",
       "</style>\n",
       "<table border=\"1\" class=\"dataframe\">\n",
       "  <thead>\n",
       "    <tr style=\"text-align: right;\">\n",
       "      <th></th>\n",
       "      <th>title</th>\n",
       "      <th>url</th>\n",
       "      <th>abstract</th>\n",
       "      <th>date</th>\n",
       "      <th>category</th>\n",
       "      <th>tag</th>\n",
       "      <th>txt_path</th>\n",
       "      <th>search_NER</th>\n",
       "      <th>tmp</th>\n",
       "    </tr>\n",
       "  </thead>\n",
       "  <tbody>\n",
       "    <tr>\n",
       "      <th>0</th>\n",
       "      <td>10. 假千金她不干了</td>\n",
       "      <td>/2024/11/11/10%E5%81%87%E5%8D%83%E9%87%91%E5%A...</td>\n",
       "      <td>假千金她不干了 春风过境，爱意滋生 我是个假千金。 对，没错，抱错二十年，真千金她回来了！ ...</td>\n",
       "      <td>2024-11-11</td>\n",
       "      <td>春风过境，爱意滋生</td>\n",
       "      <td>回答</td>\n",
       "      <td>2024/11/11/0</td>\n",
       "      <td>{'贬', '袋', '十', '错', '三', '两', '是', '。', '二', ...</td>\n",
       "      <td>3</td>\n",
       "    </tr>\n",
       "    <tr>\n",
       "      <th>1989</th>\n",
       "      <td>24. 真千金能看见鬼</td>\n",
       "      <td>/2023/11/04/24%E7%9C%9F%E5%8D%83%E9%87%91%E8%8...</td>\n",
       "      <td>真千金能看见鬼 低调厚爱：请星星捎信告白 我是真千金，刚被认回豪门。 绿茶假千金抱着我的亲哥...</td>\n",
       "      <td>2023-11-04</td>\n",
       "      <td>低调厚爱：请星星捎信告白</td>\n",
       "      <td>刺客爱人：甜虐反转的古言故事</td>\n",
       "      <td>2023/11/04/2116</td>\n",
       "      <td>{'被', '在', '十', '八', '是', '。', '金', '继', '房', ...</td>\n",
       "      <td>3</td>\n",
       "    </tr>\n",
       "    <tr>\n",
       "      <th>5285</th>\n",
       "      <td>真假千金的较量</td>\n",
       "      <td>/2022/09/04/%E7%9C%9F%E5%81%87%E5%8D%83%E9%87%...</td>\n",
       "      <td>大学舍友冒充 S 市首富女儿。 在一群马屁精的怂恿下。 到处嚣张跋扈。 地下大佬的儿子惹到了...</td>\n",
       "      <td>2022-09-04</td>\n",
       "      <td>zhihu</td>\n",
       "      <td>杂志</td>\n",
       "      <td>2022/09/04/5619</td>\n",
       "      <td>{'被', '友', '在', '知', 'z', '道', '录', '跋', '是', ...</td>\n",
       "      <td>3</td>\n",
       "    </tr>\n",
       "    <tr>\n",
       "      <th>3180</th>\n",
       "      <td>亲情降温</td>\n",
       "      <td>/2023/05/17/%E4%BA%B2%E6%83%85%E9%99%8D%E6%B8%A9</td>\n",
       "      <td>首富夫妇再次为了假千金，不来医院探望我的时候。 我彻底死心了。 「系统，让癌细胞扩散吧，我想...</td>\n",
       "      <td>2023-05-17</td>\n",
       "      <td>zhihu</td>\n",
       "      <td>蝉声唱（已完结）</td>\n",
       "      <td>2023/05/17/3350</td>\n",
       "      <td>{'在', '知', 'z', '道', '壁', '是', '。', '⼀', '金', ...</td>\n",
       "      <td>3</td>\n",
       "    </tr>\n",
       "    <tr>\n",
       "      <th>4796</th>\n",
       "      <td>真千金她好飒</td>\n",
       "      <td>/2022/11/24/%E7%9C%9F%E5%8D%83%E9%87%91%E5%A5%...</td>\n",
       "      <td>我是被抱错的真千金。 亲生父母找到我接我回家。 假千金连夜带着男朋友回国，指着我说： 「妈，...</td>\n",
       "      <td>2022-11-24</td>\n",
       "      <td>zhihu</td>\n",
       "      <td>杂志</td>\n",
       "      <td>2022/11/24/5052</td>\n",
       "      <td>{'被', '友', '在', 'z', '凑', '错', '是', '苦', '。', ...</td>\n",
       "      <td>3</td>\n",
       "    </tr>\n",
       "    <tr>\n",
       "      <th>4641</th>\n",
       "      <td>有没有真假千金小姐的爽文</td>\n",
       "      <td>/2023/01/01/%E6%9C%89%E6%B2%A1%E6%9C%89%E7%9C%...</td>\n",
       "      <td>一星期前，真正的程家大小姐找上门来。 我才知道，自己是个冒牌货。 但我的亲生父母已经死了，程...</td>\n",
       "      <td>2023-01-01</td>\n",
       "      <td>zhihu</td>\n",
       "      <td>回答</td>\n",
       "      <td>2023/01/01/4884</td>\n",
       "      <td>{'知', 'z', '道', '是', '。', '金', '注', '混', '候', ...</td>\n",
       "      <td>3</td>\n",
       "    </tr>\n",
       "    <tr>\n",
       "      <th>1533</th>\n",
       "      <td>28. 假千金霸凌我</td>\n",
       "      <td>/2024/02/01/28%E5%81%87%E5%8D%83%E9%87%91%E9%9...</td>\n",
       "      <td>假千金霸凌我 爆裂出击：燃烧吧！少女力 曾经霸凌我的人居然是我爸抱错了的女儿。 其实我才应该...</td>\n",
       "      <td>2024-02-01</td>\n",
       "      <td>爆裂出击：燃烧吧！少女力</td>\n",
       "      <td>帝心难测(已完结)</td>\n",
       "      <td>2024/02/01/1624</td>\n",
       "      <td>{'被', '在', '久', '错', '是', '。', '若', '居', '金', ...</td>\n",
       "      <td>3</td>\n",
       "    </tr>\n",
       "    <tr>\n",
       "      <th>4778</th>\n",
       "      <td>有哪些女主比较清醒的小说？</td>\n",
       "      <td>/2022/11/28/%E6%9C%89%E5%93%AA%E4%BA%9B%E5%A5%...</td>\n",
       "      <td>我是个假千金，我一早就知道。 我甚至还劝他们去做个亲子鉴定，但没人信啊。 直到真千金回来，我...</td>\n",
       "      <td>2022-11-28</td>\n",
       "      <td>zhihu</td>\n",
       "      <td>杂志</td>\n",
       "      <td>2022/11/28/5033</td>\n",
       "      <td>{'在', '并', '知', 'z', '道', '留', '甚', '错', '勾', ...</td>\n",
       "      <td>3</td>\n",
       "    </tr>\n",
       "    <tr>\n",
       "      <th>4657</th>\n",
       "      <td>有没有真假千金小姐的爽文</td>\n",
       "      <td>/2022/12/31/%E6%9C%89%E6%B2%A1%E6%9C%89%E7%9C%...</td>\n",
       "      <td>姐姐要去认亲。 她说，等她当上郡主，我每天都能有糖糕吃。 姐姐真是世上对我最好的人了。 可是...</td>\n",
       "      <td>2022-12-31</td>\n",
       "      <td>zhihu</td>\n",
       "      <td>回答</td>\n",
       "      <td>2022/12/31/4902</td>\n",
       "      <td>{'被', '袋', 'z', '十', '八', '府', '是', '。', '金', ...</td>\n",
       "      <td>3</td>\n",
       "    </tr>\n",
       "    <tr>\n",
       "      <th>3089</th>\n",
       "      <td>42. 末世后假千金回村种田了</td>\n",
       "      <td>/2023/06/03/42%E6%9C%AB%E4%B8%96%E5%90%8E%E5%8...</td>\n",
       "      <td>末世后假千金回村种田了 非分之想：恰情动时见你 我在沈家待了十八年，他们突然说我是假千金。 ...</td>\n",
       "      <td>2023-06-03</td>\n",
       "      <td>非分之想：恰情动时见你</td>\n",
       "      <td>杂志</td>\n",
       "      <td>2023/06/03/3255</td>\n",
       "      <td>{'在', '知', '十', '田', '道', '八', '恰', '是', '。', ...</td>\n",
       "      <td>3</td>\n",
       "    </tr>\n",
       "  </tbody>\n",
       "</table>\n",
       "</div>"
      ],
      "text/plain": [
       "                title                                                url  \\\n",
       "0         10. 假千金她不干了  /2024/11/11/10%E5%81%87%E5%8D%83%E9%87%91%E5%A...   \n",
       "1989      24. 真千金能看见鬼  /2023/11/04/24%E7%9C%9F%E5%8D%83%E9%87%91%E8%8...   \n",
       "5285          真假千金的较量  /2022/09/04/%E7%9C%9F%E5%81%87%E5%8D%83%E9%87%...   \n",
       "3180             亲情降温   /2023/05/17/%E4%BA%B2%E6%83%85%E9%99%8D%E6%B8%A9   \n",
       "4796           真千金她好飒  /2022/11/24/%E7%9C%9F%E5%8D%83%E9%87%91%E5%A5%...   \n",
       "4641     有没有真假千金小姐的爽文  /2023/01/01/%E6%9C%89%E6%B2%A1%E6%9C%89%E7%9C%...   \n",
       "1533       28. 假千金霸凌我  /2024/02/01/28%E5%81%87%E5%8D%83%E9%87%91%E9%9...   \n",
       "4778    有哪些女主比较清醒的小说？  /2022/11/28/%E6%9C%89%E5%93%AA%E4%BA%9B%E5%A5%...   \n",
       "4657     有没有真假千金小姐的爽文  /2022/12/31/%E6%9C%89%E6%B2%A1%E6%9C%89%E7%9C%...   \n",
       "3089  42. 末世后假千金回村种田了  /2023/06/03/42%E6%9C%AB%E4%B8%96%E5%90%8E%E5%8...   \n",
       "\n",
       "                                               abstract        date  \\\n",
       "0     假千金她不干了 春风过境，爱意滋生 我是个假千金。 对，没错，抱错二十年，真千金她回来了！ ...  2024-11-11   \n",
       "1989  真千金能看见鬼 低调厚爱：请星星捎信告白 我是真千金，刚被认回豪门。 绿茶假千金抱着我的亲哥...  2023-11-04   \n",
       "5285  大学舍友冒充 S 市首富女儿。 在一群马屁精的怂恿下。 到处嚣张跋扈。 地下大佬的儿子惹到了...  2022-09-04   \n",
       "3180  首富夫妇再次为了假千金，不来医院探望我的时候。 我彻底死心了。 「系统，让癌细胞扩散吧，我想...  2023-05-17   \n",
       "4796  我是被抱错的真千金。 亲生父母找到我接我回家。 假千金连夜带着男朋友回国，指着我说： 「妈，...  2022-11-24   \n",
       "4641  一星期前，真正的程家大小姐找上门来。 我才知道，自己是个冒牌货。 但我的亲生父母已经死了，程...  2023-01-01   \n",
       "1533  假千金霸凌我 爆裂出击：燃烧吧！少女力 曾经霸凌我的人居然是我爸抱错了的女儿。 其实我才应该...  2024-02-01   \n",
       "4778  我是个假千金，我一早就知道。 我甚至还劝他们去做个亲子鉴定，但没人信啊。 直到真千金回来，我...  2022-11-28   \n",
       "4657  姐姐要去认亲。 她说，等她当上郡主，我每天都能有糖糕吃。 姐姐真是世上对我最好的人了。 可是...  2022-12-31   \n",
       "3089  末世后假千金回村种田了 非分之想：恰情动时见你 我在沈家待了十八年，他们突然说我是假千金。 ...  2023-06-03   \n",
       "\n",
       "          category             tag         txt_path  \\\n",
       "0        春风过境，爱意滋生              回答     2024/11/11/0   \n",
       "1989  低调厚爱：请星星捎信告白  刺客爱人：甜虐反转的古言故事  2023/11/04/2116   \n",
       "5285         zhihu              杂志  2022/09/04/5619   \n",
       "3180         zhihu        蝉声唱（已完结）  2023/05/17/3350   \n",
       "4796         zhihu              杂志  2022/11/24/5052   \n",
       "4641         zhihu              回答  2023/01/01/4884   \n",
       "1533  爆裂出击：燃烧吧！少女力       帝心难测(已完结)  2024/02/01/1624   \n",
       "4778         zhihu              杂志  2022/11/28/5033   \n",
       "4657         zhihu              回答  2022/12/31/4902   \n",
       "3089   非分之想：恰情动时见你              杂志  2023/06/03/3255   \n",
       "\n",
       "                                             search_NER  tmp  \n",
       "0     {'贬', '袋', '十', '错', '三', '两', '是', '。', '二', ...    3  \n",
       "1989  {'被', '在', '十', '八', '是', '。', '金', '继', '房', ...    3  \n",
       "5285  {'被', '友', '在', '知', 'z', '道', '录', '跋', '是', ...    3  \n",
       "3180  {'在', '知', 'z', '道', '壁', '是', '。', '⼀', '金', ...    3  \n",
       "4796  {'被', '友', '在', 'z', '凑', '错', '是', '苦', '。', ...    3  \n",
       "4641  {'知', 'z', '道', '是', '。', '金', '注', '混', '候', ...    3  \n",
       "1533  {'被', '在', '久', '错', '是', '。', '若', '居', '金', ...    3  \n",
       "4778  {'在', '并', '知', 'z', '道', '留', '甚', '错', '勾', ...    3  \n",
       "4657  {'被', '袋', 'z', '十', '八', '府', '是', '。', '金', ...    3  \n",
       "3089  {'在', '知', '十', '田', '道', '八', '恰', '是', '。', ...    3  "
      ]
     },
     "execution_count": 13,
     "metadata": {},
     "output_type": "execute_result"
    }
   ],
   "source": [
    "sub_df"
   ]
  },
  {
   "cell_type": "code",
   "execution_count": null,
   "id": "c6057e86",
   "metadata": {},
   "outputs": [],
   "source": []
  }
 ],
 "metadata": {
  "kernelspec": {
   "display_name": "Python 3 (ipykernel)",
   "language": "python",
   "name": "python3"
  },
  "language_info": {
   "codemirror_mode": {
    "name": "ipython",
    "version": 3
   },
   "file_extension": ".py",
   "mimetype": "text/x-python",
   "name": "python",
   "nbconvert_exporter": "python",
   "pygments_lexer": "ipython3",
   "version": "3.8.11"
  }
 },
 "nbformat": 4,
 "nbformat_minor": 5
}
